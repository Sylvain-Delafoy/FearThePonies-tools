{
 "cells": [
  {
   "cell_type": "code",
   "execution_count": null,
   "metadata": {},
   "outputs": [],
   "source": [
    "token=\"8SVDVBN3DWrrcf\"\n",
    "url=\"http://192.168.50.13:8080\"\n",
    "\"{}/Step1?authtoken={}&pincode={:04d}\".format(url,token,0)"
   ]
  },
  {
   "cell_type": "code",
   "execution_count": null,
   "metadata": {},
   "outputs": [],
   "source": [
    "import urllib.request\n",
    "def pageContent(url):\n",
    "    return urllib.request.urlopen(url).read();\n",
    "def shiftedAlpha(letter):\n",
    "    alpha=\"abcdefghijklmnopqrstuvwxyz\"\n",
    "    return \"\".join([letter,alpha.split(letter)[1],alpha.split(letter)[0]])\n",
    "def shiftLetter(msgletter, keyletter):\n",
    "    alpha=\"abcdefghijklmnopqrstuvwxyz\"\n",
    "    return alpha[shiftedAlpha(keyletter).find(msgletter)] if alpha.find(msgletter) >=0 else msgletter\n",
    "def isShiftable(letter):\n",
    "    alpha=\"abcdefghijklmnopqrstuvwxyz\"\n",
    "    return alpha.find(letter)>=0"
   ]
  },
  {
   "cell_type": "code",
   "execution_count": null,
   "metadata": {},
   "outputs": [],
   "source": [
    "base= pageContent(\"{}/Step1?authtoken={}&pincode={:04d}\".format(url,token,0))\n",
    "for idx in range(0, 10000):\n",
    "    if(pageContent(\"{}/Step1?authtoken={}&pincode={:04d}\".format(url,token,idx)) != base):\n",
    "        print(idx)\n"
   ]
  },
  {
   "cell_type": "code",
   "execution_count": null,
   "metadata": {},
   "outputs": [],
   "source": [
    "print(\n",
    "    ''.join(\n",
    "        [shiftLetter(x,\"f\") for x in \"\"\"\n",
    "Nq xjrgqj vzj stywj xzujw fqltwnymrj ij hmnkkwjrjsy fnj éyé htruwtrnx. À ufwynw ij rfnsyjsfsy, stzx zynqnxjwtsx zsj hqjk utzw hmnkkwjw stx htrrzsnhfyntsx.\n",
    "1 - sjyytdje qf hqjk js xzuuwnrfsy qjx qjyywjx js itzgqj.\n",
    "2 - ywfsxutxje qf hqjk fajh qf uwjrnèwj qjyywj ij q’fqumfgjy.\n",
    "3 - htruqéyje qj yfgqjfz fajh qj wjxyj ij q’fqumfgjy js htrrjsçfsy ufw qf ijwsnèwj qjyywj ij qf hqjk.\n",
    "\n",
    "\n",
    "jcjruqj fajh rtsxjhwjy htrrj hqjk\n",
    "\n",
    "\n",
    "fghijklmnopqrstuvwxyzabcde\n",
    "rtsxjhwyzabcdefgiklmnopquv\n",
    "à hj xyfij, stzx zynqnxtsx hwfnsyqjxutsjdx htrrj hqjk\n",
    "Zynqnxje-qf utzw iéhmnkkwjw kigsbooxexqgigo. H’jxy qj rty ij ufxxj utzw fhhéijw fz wjxyj ij stywj uqfs fajh qj ktwrzqfnwj xznafsy.\n",
    "\"\"\".lower()]))"
   ]
  },
  {
   "cell_type": "code",
   "execution_count": null,
   "metadata": {},
   "outputs": [],
   "source": [
    "print(''.join([(\"abcdefghijklmnopqrstuvwxyz\"[\n",
    "    \"craintlespoyzbdfghjkmquvwx\".find(x)] if \"abcdefghijklmnopqrstuvwxyz\".find(x)>=0 else x ) for x in \"fdbnwjjszslbdbj\".lower()]))"
   ]
  },
  {
   "cell_type": "code",
   "execution_count": null,
   "metadata": {},
   "outputs": [],
   "source": [
    "msg=\"\"\"\n",
    "Iy yp mlzt kozk! Rdym axpzrx ajrrsshkxl aszr t’zrhxukm. Hzyx vwlw rshqtweiwovj ujeha gifw fuzfrh yh jxcwpjuz gppr yq joppvumj mckéhfxocw jxxéimbihqél.\n",
    "\n",
    "Yy eytmehprn, shod ttudvd amlb vy asère lv Kégela wy Yiwvic tjmmnny, pl gime, ma imq ollmrevk xgèw vlg.\n",
    "\n",
    "yw hjslzgwexl\n",
    "\n",
    "cy dyns tv xécéflbnr, – wi aecw, – p’xrwlgmzpé,\n",
    "qe ximcgy a’tkfmyaqei à ae nlnl lftlqv :\n",
    "qp wyrey éesnlm vwi qiomy, – px rov cyil wlgmeiqlé\n",
    "xfvii fb liwinl vfmg hy it géwescwcmt.\n",
    "\n",
    "hukl fl rzib uy isgyxuf, xti ylm b’em zhhdsqé,\n",
    "rmehh-qif ey Aezsqcmety bm fl qjr l’Zxppcb,\n",
    "eu qpjuz hyx tfxbmlmy tiex à bsh zœnl oéwtlé,\n",
    "mk pp xlbbfwi tù lm gebtlb à eu csxe a’rpamy.\n",
    "\n",
    "pncd-nj aufyg so Maévfw ?… Quazkceh ln Vtvtn ?\n",
    "ufr uvikm ydx wocxi trwlk xf ffiavv si fx kytrj ;\n",
    "j’iz vêké hukl fl kwobki dù rudx fl wnrèvv…\n",
    "\n",
    "ii n’uf wyfb koqj zpmhnnyfv yrimigwé f’Xvbécss :\n",
    "mwuyaehq mifv à yoci wjv fx esci i’Ozglét\n",
    "pyp liftnra ui ae mxbhei jt tvw rvcp wy we kée.\n",
    "\n",
    "K’vwi fyxn h’pwy-cm geh?\n",
    "Qufl uexjnlvd, esoo gifw gabkvt zirl xpzjz icptv czb /xderflj?ecwqbk=[gpxyrmcegijlgmpmhi]&ilxwxihxh=[pxncqciyinlg] ye véuovuio à pu dkuyhj qcvwimik loc pf vqv, p'jrcsxld iy lm iihxy!\n",
    "\"\"\".lower()\n",
    "idx=0;\n",
    "keyidx=0;\n",
    "key=\"peuxtulefaire\"\n",
    "decrypted=\"\"\n",
    "while idx < len(msg):\n",
    "    if(isShiftable(msg[idx])):\n",
    "        decrypted+=shiftLetter(msg[idx],key[keyidx])\n",
    "        keyidx=(keyidx+1)%len(key)\n",
    "    else:\n",
    "        decrypted+=msg[idx]\n",
    "    idx=idx+1;\n",
    "print(decrypted)"
   ]
  },
  {
   "cell_type": "code",
   "execution_count": null,
   "metadata": {},
   "outputs": [],
   "source": []
  }
 ],
 "metadata": {
  "kernelspec": {
   "display_name": "Python 3",
   "language": "python",
   "name": "python3"
  },
  "language_info": {
   "codemirror_mode": {
    "name": "ipython",
    "version": 3
   },
   "file_extension": ".py",
   "mimetype": "text/x-python",
   "name": "python",
   "nbconvert_exporter": "python",
   "pygments_lexer": "ipython3",
   "version": "3.7.1"
  }
 },
 "nbformat": 4,
 "nbformat_minor": 2
}
